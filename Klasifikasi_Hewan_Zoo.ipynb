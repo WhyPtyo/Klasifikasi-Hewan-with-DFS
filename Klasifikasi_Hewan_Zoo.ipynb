{
  "cells": [
    {
      "cell_type": "markdown",
      "metadata": {
        "id": "view-in-github",
        "colab_type": "text"
      },
      "source": [
        "<a href=\"https://colab.research.google.com/github/WhyPtyo/Klasifikasi-Hewan-with-DFS/blob/main/Klasifikasi_Hewan_Zoo.ipynb\" target=\"_parent\"><img src=\"https://colab.research.google.com/assets/colab-badge.svg\" alt=\"Open In Colab\"/></a>"
      ]
    },
    {
      "cell_type": "markdown",
      "metadata": {
        "id": "-TckmAvPNXnI"
      },
      "source": [
        "# Klasifikasi Hewan di Zoo dengan Algoritma Tree\n",
        "\n",
        "Implementasi algoritma Tree untuk klasifikasi dan pencarian taksonomi hewan berdasarkan dataset Zoo dan struktur hierarki taksonomi."
      ]
    },
    {
      "cell_type": "markdown",
      "metadata": {
        "id": "f5f-m6C-NXnN"
      },
      "source": [
        "## 1. Persiapan Dataset\n",
        "\n",
        "Pertama, kita perlu mengimport library yang diperlukan, kemudian mengupload file dataset dan struktur taksonomi. File-file ini akan digunakan untuk membangun Tree taksonomi dan melakukan pencarian spesies."
      ]
    },
    {
      "cell_type": "code",
      "execution_count": null,
      "metadata": {
        "id": "fWYaLTLNNXnO"
      },
      "outputs": [],
      "source": [
        "# Mengimpor library yang diperlukan\n",
        "import pandas as pd\n",
        "import numpy as np\n",
        "import matplotlib.pyplot as plt\n",
        "import seaborn as sns\n",
        "import json\n",
        "import os\n",
        "from google.colab import files\n",
        "\n",
        "# Mengatur style plot\n",
        "plt.style.use('seaborn-v0_8-whitegrid')\n",
        "sns.set_palette('viridis')\n",
        "plt.rcParams['figure.figsize'] = (12, 8)\n",
        "plt.rcParams['font.size'] = 12"
      ]
    },
    {
      "cell_type": "markdown",
      "metadata": {
        "id": "HOdu19B-NXnQ"
      },
      "source": [
        "### 1.1 Upload File Dataset dan Struktur Taksonomi\n",
        "\n",
        "Upload file dataset (`zoo_dataset.csv`) dan struktur taksonomi (`taxonomy_structure.json`)"
      ]
    },
    {
      "cell_type": "code",
      "execution_count": null,
      "metadata": {
        "id": "yGveF_ZuNXnR"
      },
      "outputs": [],
      "source": [
        "# Upload file dataset dan struktur taksonomi\n",
        "uploaded = files.upload()\n",
        "\n",
        "# Pastikan file yang diperlukan telah diupload\n",
        "required_files = ['zoo_dataset.csv', 'taxonomy_structure.json']\n",
        "for file in required_files:\n",
        "    if file not in uploaded:\n",
        "        print(f\"File {file} belum diupload. Silakan upload file tersebut.\")"
      ]
    },
    {
      "cell_type": "markdown",
      "metadata": {
        "id": "54iyEmX4NXnS"
      },
      "source": [
        "### 1.2 Membaca Dataset dan Struktur Taksonomi"
      ]
    },
    {
      "cell_type": "code",
      "execution_count": null,
      "metadata": {
        "id": "iCJWU0KsNXnT"
      },
      "outputs": [],
      "source": [
        "from google.colab import data_table\n",
        "data_table.enable_dataframe_formatter()\n",
        "# Membaca dataset\n",
        "zoo_df = pd.read_csv('zoo_dataset.csv')\n",
        "\n",
        "# Membaca struktur taksonomi\n",
        "with open('taxonomy_structure.json', 'r') as f:\n",
        "    taxonomy_structure = json.load(f)\n",
        "\n",
        "# Menampilkan informasi dataset\n",
        "print(\"Informasi Dataset:\")\n",
        "print(f\"Jumlah data: {len(zoo_df)}\")\n",
        "print(f\"Jumlah kelas: {len(taxonomy_structure)}\")\n",
        "\n",
        "# Menampilkan beberapa data pertama\n",
        "print(\"\\nBeberapa data pertama:\")\n",
        "data_table.DataTable(zoo_df, num_rows_per_page=5, max_columns=21)"
      ]
    },
    {
      "cell_type": "markdown",
      "metadata": {
        "id": "DSbZ2GzONXnU"
      },
      "source": [
        "## 2. Implementasi Algoritma Tree (DFS Pre Order)\n",
        "\n",
        "Pada bagian ini, saya akan mengimplementasikan algoritma Tree untuk merepresentasikan struktur taksonomi hewan dan melakukan pencarian spesies."
      ]
    },
    {
      "cell_type": "markdown",
      "metadata": {
        "id": "woOGhd0KNXnU"
      },
      "source": [
        "### 2.1 Definisi Kelas Node dan AnimalTaxonomyTree"
      ]
    },
    {
      "cell_type": "code",
      "execution_count": null,
      "metadata": {
        "id": "MBHkdW3DNXnV"
      },
      "outputs": [],
      "source": [
        "class Node:\n",
        "    def __init__(self, name, level, scientific_name=None, characteristics=None):\n",
        "        self.name = name  # Nama node (kelas, ordo, atau spesies)\n",
        "        self.level = level  # Level taksonomi (0: kingdom, 1: kelas, 2: ordo, 3: spesies)\n",
        "        self.scientific_name = scientific_name  # Nama ilmiah (untuk spesies)\n",
        "        self.characteristics = characteristics  # Karakteristik (untuk spesies)\n",
        "        self.children = {}  # Dictionary untuk menyimpan child nodes\n",
        "\n",
        "    def add_child(self, child_name, child_node):\n",
        "        self.children[child_name] = child_node\n",
        "\n",
        "    def get_child(self, child_name):\n",
        "        return self.children.get(child_name)\n",
        "\n",
        "    def has_child(self, child_name):\n",
        "        return child_name in self.children\n",
        "\n",
        "    def get_all_children(self):\n",
        "        return self.children\n",
        "\n",
        "    def __str__(self):\n",
        "        if self.level == 3:  # Spesies\n",
        "            return f\"{self.name} ({self.scientific_name})\"\n",
        "        return self.name\n",
        "\n",
        "class AnimalTaxonomyTree:\n",
        "    def __init__(self, taxonomy_structure=None, dataset=None):\n",
        "        self.root = Node(\"Hewan\", 0)  # Root node adalah Kingdom Hewan\n",
        "        self.dataset = dataset\n",
        "\n",
        "        if taxonomy_structure:\n",
        "            self.build_from_taxonomy(taxonomy_structure)\n",
        "\n",
        "    def build_from_taxonomy(self, taxonomy_structure):\n",
        "        # Iterasi melalui setiap kelas\n",
        "        for class_name, class_data in taxonomy_structure.items():\n",
        "            class_node = Node(class_name, 1)\n",
        "            self.root.add_child(class_name, class_node)\n",
        "\n",
        "            # Iterasi melalui setiap ordo dalam kelas\n",
        "            for order_name, order_data in class_data['orders'].items():\n",
        "                order_node = Node(order_name, 2)\n",
        "                class_node.add_child(order_name, order_node)\n",
        "\n",
        "                # Iterasi melalui setiap spesies dalam ordo\n",
        "                for species_name, species_data in order_data['species'].items():\n",
        "                    species_node = Node(\n",
        "                        species_name,\n",
        "                        3,\n",
        "                        scientific_name=species_data['scientific_name'],\n",
        "                        characteristics=species_data['characteristics']\n",
        "                    )\n",
        "                    order_node.add_child(species_name, species_node)\n",
        "\n",
        "    def search(self, query):\n",
        "        results = []\n",
        "\n",
        "        # Iterasi melalui setiap kelas\n",
        "        for class_name, class_node in self.root.get_all_children().items():\n",
        "            # Iterasi melalui setiap ordo dalam kelas\n",
        "            for order_name, order_node in class_node.get_all_children().items():\n",
        "                # Iterasi melalui setiap spesies dalam ordo\n",
        "                for species_name, species_node in order_node.get_all_children().items():\n",
        "                    # Jika query cocok dengan nama spesies (case insensitive)\n",
        "                    if query.lower() in species_name.lower():\n",
        "                        results.append((species_node, class_name, order_name))\n",
        "\n",
        "        return results\n",
        "\n",
        "    def get_species_details(self, species_name):\n",
        "        # Iterasi melalui setiap kelas\n",
        "        for class_name, class_node in self.root.get_all_children().items():\n",
        "            # Iterasi melalui setiap ordo dalam kelas\n",
        "            for order_name, order_node in class_node.get_all_children().items():\n",
        "                # Periksa apakah spesies ada dalam ordo ini\n",
        "                if order_node.has_child(species_name):\n",
        "                    species_node = order_node.get_child(species_name)\n",
        "                    return (species_node, class_name, order_name)\n",
        "\n",
        "        return None\n",
        "\n",
        "    def get_path_to_species(self, species_name):\n",
        "        result = self.get_species_details(species_name)\n",
        "        if result:\n",
        "            species_node, class_name, order_name = result\n",
        "            return [self.root, self.root.get_child(class_name),\n",
        "                   self.root.get_child(class_name).get_child(order_name),\n",
        "                   species_node]\n",
        "        return None\n",
        "\n",
        "    def print_tree(self, node=None, level=0):\n",
        "        if node is None:\n",
        "            node = self.root\n",
        "\n",
        "        # Cetak node saat ini dengan indentasi\n",
        "        indent = \"  \" * level\n",
        "        print(f\"{indent}{node}\")\n",
        "\n",
        "        # Cetak semua child nodes secara rekursif\n",
        "        for child_name, child_node in node.get_all_children().items():\n",
        "            self.print_tree(child_node, level + 1)\n",
        "\n",
        "    def print_species_details(self, species_name):\n",
        "        result = self.get_species_details(species_name)\n",
        "        if result:\n",
        "            species_node, class_name, order_name = result\n",
        "\n",
        "            print(f\"Nama Spesies: {species_node.name}\")\n",
        "            print(f\"Nama Ilmiah: {species_node.scientific_name}\")\n",
        "            print(f\"Klasifikasi Taksonomi:\")\n",
        "            print(f\"  Kingdom: Hewan\")\n",
        "            print(f\"  Kelas: {class_name}\")\n",
        "            print(f\"  Ordo: {order_name}\")\n",
        "\n",
        "            if species_node.characteristics:\n",
        "                print(\"\\nKarakteristik:\")\n",
        "                for key, value in species_node.characteristics.items():\n",
        "                    print(f\"  {key}: {value}\")\n",
        "\n",
        "            return True\n",
        "        else:\n",
        "            print(f\"Spesies '{species_name}' tidak ditemukan.\")\n",
        "            return False"
      ]
    },
    {
      "cell_type": "markdown",
      "metadata": {
        "id": "scDtX5lhNXnd"
      },
      "source": [
        "### 2.2 Membangun Tree Taksonomi"
      ]
    },
    {
      "cell_type": "code",
      "execution_count": null,
      "metadata": {
        "id": "fJ0p5EiWNXnd"
      },
      "outputs": [],
      "source": [
        "# Membangun Tree taksonomi\n",
        "tree = AnimalTaxonomyTree(taxonomy_structure, zoo_df)\n",
        "\n",
        "# Menampilkan informasi Tree\n",
        "print(f\"Tree taksonomi berhasil dibangun.\")\n",
        "print(f\"Total kelas: {len(tree.root.get_all_children())}\")\n",
        "\n",
        "# Menampilkan beberapa level pertama dari Tree\n",
        "print(\"\\nStruktur Tree (2 level pertama):\")\n",
        "for class_name, class_node in tree.root.get_all_children().items():\n",
        "    print(f\"- {class_name}\")\n",
        "    for order_name in class_node.get_all_children().keys():\n",
        "        print(f\"  - {order_name}\")"
      ]
    },
    {
      "cell_type": "markdown",
      "metadata": {
        "id": "u4G0BEHINXnl"
      },
      "source": [
        "## 3. Visualisasi Tree Taksonomi\n",
        "\n",
        "Pada bagian ini merupakan visualisasi Tree taksonomi"
      ]
    },
    {
      "cell_type": "markdown",
      "metadata": {
        "id": "hoKfyohrNXnl"
      },
      "source": [
        "### 3.1 Visualisasi Tree Taksonomi Lengkap"
      ]
    },
    {
      "cell_type": "code",
      "execution_count": null,
      "metadata": {
        "id": "fnsqx17kNXnl"
      },
      "outputs": [],
      "source": [
        "def visualize_full_tree():\n",
        "    # Buat figure\n",
        "    plt.figure(figsize=(81, 20))\n",
        "\n",
        "    # Posisi awal\n",
        "    y_pos = 0\n",
        "\n",
        "    # Gambar node root\n",
        "    plt.text(0, y_pos, 'Hewan', fontsize=16, ha='center',\n",
        "             bbox=dict(facecolor='#FFCC00', alpha=0.5))\n",
        "\n",
        "    # Warna untuk setiap kelas\n",
        "    class_colors = {\n",
        "        'Mamalia': '#FF5733',\n",
        "        'Burung': '#33FF57',\n",
        "        'Reptil': '#3357FF'\n",
        "    }\n",
        "\n",
        "    # Gambar koneksi dari root ke kelas\n",
        "    y_pos -= 1\n",
        "    class_x_positions = {}\n",
        "\n",
        "    # Hitung total width\n",
        "    total_width = len(taxonomy_structure) * 5\n",
        "    start_x = -total_width / 2\n",
        "\n",
        "    # Gambar node kelas\n",
        "    for i, (class_name, class_data) in enumerate(taxonomy_structure.items()):\n",
        "        x_pos = start_x + i * 16\n",
        "        class_x_positions[class_name] = x_pos\n",
        "\n",
        "        # Gambar koneksi\n",
        "        plt.plot([0, x_pos], [0, y_pos], 'k-', alpha=0.3)\n",
        "\n",
        "        # Gambar node kelas\n",
        "        plt.text(x_pos, y_pos, class_name, fontsize=14, ha='center',\n",
        "                 bbox=dict(facecolor=class_colors.get(class_name, '#CCCCCC'), alpha=0.5))\n",
        "\n",
        "    # Gambar koneksi dari kelas ke ordo\n",
        "    y_pos -= 1.5\n",
        "    order_x_positions = {}\n",
        "\n",
        "    for class_name, class_data in taxonomy_structure.items():\n",
        "        class_x = class_x_positions[class_name]\n",
        "        orders = list(class_data['orders'].keys())\n",
        "\n",
        "        # Hitung posisi x untuk setiap ordo\n",
        "        order_width = 4\n",
        "        order_start_x = class_x - (len(orders) * order_width) / 2\n",
        "\n",
        "        for i, order_name in enumerate(orders):\n",
        "            x_pos = order_start_x + i * order_width\n",
        "            order_x_positions[f'{class_name}_{order_name}'] = x_pos\n",
        "\n",
        "            # Gambar koneksi\n",
        "            plt.plot([class_x, x_pos], [y_pos + 1.5, y_pos], 'k-', alpha=0.3)\n",
        "\n",
        "            # Gambar node ordo\n",
        "            plt.text(x_pos, y_pos, order_name, fontsize=12, ha='center',\n",
        "                     bbox=dict(facecolor='#AAAAAA', alpha=0.5))\n",
        "\n",
        "    # Gambar koneksi dari ordo ke beberapa spesies (tidak semua untuk menjaga keterbacaan)\n",
        "    y_pos -= 1.5\n",
        "\n",
        "    for class_name, class_data in taxonomy_structure.items():\n",
        "        for order_name, order_data in class_data['orders'].items():\n",
        "            order_x = order_x_positions[f'{class_name}_{order_name}']\n",
        "            species = list(order_data['species'].keys())\n",
        "\n",
        "            # Batasi jumlah spesies yang ditampilkan\n",
        "            display_species = species[:3]\n",
        "\n",
        "            # Hitung posisi x untuk setiap spesies\n",
        "            species_width = 3\n",
        "            species_start_x = order_x - (len(display_species) * species_width) / 2\n",
        "\n",
        "            for i, species_name in enumerate(display_species):\n",
        "                x_pos = species_start_x + i * species_width\n",
        "\n",
        "                # Gambar koneksi\n",
        "                plt.plot([order_x, x_pos], [y_pos + 1.5, y_pos], 'k-', alpha=0.3)\n",
        "\n",
        "                # Gambar node spesies\n",
        "                scientific_name = order_data['species'][species_name]['scientific_name']\n",
        "                plt.text(x_pos, y_pos, f'{species_name}\\n({scientific_name})', fontsize=10, ha='center',\n",
        "                         bbox=dict(facecolor='#DDDDDD', alpha=0.5))\n",
        "\n",
        "    # Tambahkan label untuk level\n",
        "    # Posisi label di pojok kiri\n",
        "    label_x = -total_width/2 - 13.5  # Posisi label di sebelah kiri\n",
        "\n",
        "    # Tambahkan label untuk level di pojok kiri\n",
        "    plt.text(label_x, 0, 'Kingdom', fontsize=14, ha='left', va='center',\n",
        "             bbox=dict(facecolor='white', alpha=0.8, boxstyle=\"round,pad=0.3\"))\n",
        "    plt.text(label_x, y_pos + 5, 'Kelas', fontsize=14, ha='left', va='center',\n",
        "             bbox=dict(facecolor='white', alpha=0.8, boxstyle=\"round,pad=0.3\"))\n",
        "    plt.text(label_x, y_pos + 2.5, 'Ordo', fontsize=14, ha='left', va='center',\n",
        "             bbox=dict(facecolor='white', alpha=0.8, boxstyle=\"round,pad=0.3\"))\n",
        "    plt.text(label_x, y_pos, 'Spesies', fontsize=14, ha='left', va='center',\n",
        "             bbox=dict(facecolor='white', alpha=0.8, boxstyle=\"round,pad=0.3\"))\n",
        "\n",
        "    # Tambahkan catatan\n",
        "    plt.text(0, y_pos - 3, 'Catatan: Hanya menampilkan sebagian spesies untuk menjaga keterbacaan',\n",
        "             fontsize=10, ha='center', style='italic')\n",
        "\n",
        "    # Tambahkan legenda untuk warna kelas\n",
        "    from matplotlib.patches import Rectangle\n",
        "    legend_elements = [\n",
        "        Rectangle((0, 0), 1, 1, facecolor=color, alpha=0.5, label=class_name)\n",
        "        for class_name, color in class_colors.items()\n",
        "    ]\n",
        "    plt.legend(handles=legend_elements, loc='upper right', title='Kelas')\n",
        "\n",
        "    plt.title('Hierarki Taksonomi Hewan', fontsize=20)\n",
        "    plt.axis('off')\n",
        "    plt.tight_layout()\n",
        "    plt.show()\n",
        "\n",
        "# Visualisasi Tree taksonomi lengkap\n",
        "visualize_full_tree()"
      ]
    },
    {
      "cell_type": "markdown",
      "metadata": {
        "id": "cQMjukcuNXnr"
      },
      "source": [
        "### 3.2 Visualisasi Tree Taksonomi untuk Kelas Tertentu"
      ]
    },
    {
      "cell_type": "code",
      "execution_count": null,
      "metadata": {
        "id": "62aqflBTNXns"
      },
      "outputs": [],
      "source": [
        "def visualize_class_tree(class_name):\n",
        "    if class_name not in taxonomy_structure:\n",
        "        print(f\"Kelas '{class_name}' tidak ditemukan.\")\n",
        "        return\n",
        "\n",
        "    # Buat figure\n",
        "    plt.figure(figsize=(25, 8))\n",
        "\n",
        "    # Posisi awal\n",
        "    y_pos = 0\n",
        "\n",
        "    # Gambar node kelas\n",
        "    plt.text(0, y_pos, class_name, fontsize=25, ha='center',\n",
        "             bbox=dict(facecolor='#FF5733', alpha=0.5))\n",
        "\n",
        "    # Gambar koneksi dari kelas ke ordo\n",
        "    y_pos -= 1.5\n",
        "    order_x_positions = {}\n",
        "\n",
        "    class_data = taxonomy_structure[class_name]\n",
        "    orders = list(class_data['orders'].keys())\n",
        "\n",
        "    # Hitung posisi x untuk setiap ordo\n",
        "    order_width = 4\n",
        "    order_start_x = -(len(orders) * order_width) / 2\n",
        "\n",
        "    for i, order_name in enumerate(orders):\n",
        "        x_pos = order_start_x + i * order_width\n",
        "        order_x_positions[order_name] = x_pos\n",
        "\n",
        "        # Gambar koneksi\n",
        "        plt.plot([0, x_pos], [0, y_pos], 'k-', alpha=0.3)\n",
        "\n",
        "        # Gambar node ordo\n",
        "        plt.text(x_pos, y_pos, order_name, fontsize=25, ha='center',\n",
        "                 bbox=dict(facecolor='#AAAAAA', alpha=0.5))\n",
        "\n",
        "    # Gambar koneksi dari ordo ke spesies\n",
        "    y_pos -= 1.5\n",
        "\n",
        "    for order_name, order_data in class_data['orders'].items():\n",
        "        order_x = order_x_positions[order_name]\n",
        "        species = list(order_data['species'].keys())\n",
        "\n",
        "        # Hitung posisi x untuk setiap spesies\n",
        "        species_width = 3\n",
        "        species_start_x = order_x - (len(species) * species_width) / 2\n",
        "\n",
        "        for i, species_name in enumerate(species):\n",
        "            x_pos = species_start_x + i * species_width\n",
        "\n",
        "            # Gambar koneksi\n",
        "            plt.plot([order_x, x_pos], [y_pos + 1.5, y_pos], 'k-', alpha=0.3)\n",
        "\n",
        "            # Gambar node spesies\n",
        "            scientific_name = order_data['species'][species_name]['scientific_name']\n",
        "            plt.text(x_pos, y_pos, f'{species_name}\\n({scientific_name})', fontsize=11, ha='center',\n",
        "                     bbox=dict(facecolor='#DDDDDD', alpha=0.5))\n",
        "\n",
        "    # Tambahkan label untuk level\n",
        "    plt.text(order_start_x - 5, 0, 'Kelas', fontsize=30, ha='right')\n",
        "    plt.text(order_start_x - 5, y_pos + 1.5, 'Ordo', fontsize=30, ha='right')\n",
        "    plt.text(order_start_x - 5, y_pos, 'Spesies', fontsize=25, ha='right')\n",
        "\n",
        "    plt.title(f'Hierarki Taksonomi Kelas {class_name}', fontsize=25)\n",
        "    plt.axis('off')\n",
        "    plt.tight_layout()\n",
        "    plt.show()\n",
        "\n",
        "# Visualisasi Tree taksonomi untuk kelas Mamalia\n",
        "visualize_class_tree('Mamalia')"
      ]
    },
    {
      "cell_type": "markdown",
      "metadata": {
        "id": "gda1S86UNXne"
      },
      "source": [
        "## 4. Fitur Pencarian Spesies\n",
        "\n",
        "Pada bagian ini, kita akan mengimplementasikan fitur pencarian spesies berdasarkan nama dan menampilkan detail taksonominya."
      ]
    },
    {
      "cell_type": "code",
      "execution_count": null,
      "metadata": {
        "id": "XmjvkyLqNXnf"
      },
      "outputs": [],
      "source": [
        "def search_species(tree, query):\n",
        "    results = tree.search(query)\n",
        "\n",
        "    if results:\n",
        "        print(f\"Ditemukan {len(results)} hasil untuk '{query}':\")\n",
        "        for i, (species_node, class_name, order_name) in enumerate(results, 1):\n",
        "            print(f\"{i}. {species_node.name} ({species_node.scientific_name}) - Kelas: {class_name}, Ordo: {order_name}\")\n",
        "    else:\n",
        "        print(f\"Tidak ditemukan hasil untuk '{query}'.\")\n",
        "\n",
        "    return results"
      ]
    },
    {
      "cell_type": "code",
      "execution_count": null,
      "metadata": {
        "id": "G7Jkjta4NXnf"
      },
      "outputs": [],
      "source": [
        "# Contoh pencarian spesies\n",
        "query = \"kucing\"  # Ganti dengan query pencarian yang diinginkan\n",
        "results = search_species(tree, query)"
      ]
    },
    {
      "cell_type": "code",
      "execution_count": null,
      "metadata": {
        "id": "q2HD2FYTNXng"
      },
      "outputs": [],
      "source": [
        "# Menampilkan detail spesies dari hasil pencarian\n",
        "if results:\n",
        "    # Pilih spesies pertama dari hasil pencarian\n",
        "    species_node, _, _ = results[0]\n",
        "    print(\"\\nDetail spesies:\")\n",
        "    tree.print_species_details(species_node.name)"
      ]
    },
    {
      "cell_type": "markdown",
      "metadata": {
        "id": "kTI1Fh6uNXnh"
      },
      "source": [
        "### 4.1 Implementasi Widget Pencarian\n",
        "\n",
        "Pada bagian ini merupakan implementasi pencarian menggunakan ipywidgets."
      ]
    },
    {
      "cell_type": "code",
      "execution_count": null,
      "metadata": {
        "id": "iQLxtc6INXni",
        "collapsed": true
      },
      "outputs": [],
      "source": [
        "# Menginstal ipywidgets jika belum terinstal\n",
        "!pip install ipywidgets"
      ]
    },
    {
      "cell_type": "code",
      "execution_count": null,
      "metadata": {
        "id": "U4X1f2B9NXnk"
      },
      "outputs": [],
      "source": [
        "import ipywidgets as widgets\n",
        "from IPython.display import display, clear_output\n",
        "\n",
        "# Membuat widget pencarian\n",
        "search_input = widgets.Text(\n",
        "    value='',\n",
        "    placeholder='Masukkan nama spesies',\n",
        "    description='Cari:',\n",
        "    disabled=False\n",
        ")\n",
        "\n",
        "search_button = widgets.Button(\n",
        "    description='Cari',\n",
        "    disabled=False,\n",
        "    button_style='primary',\n",
        "    tooltip='Klik untuk mencari',\n",
        "    icon='search'\n",
        ")\n",
        "\n",
        "output = widgets.Output()\n",
        "\n",
        "# Fungsi untuk menangani klik tombol pencarian\n",
        "def on_search_button_clicked(b):\n",
        "    with output:\n",
        "        clear_output()\n",
        "        query = search_input.value\n",
        "        if query:\n",
        "            results = search_species(tree, query)\n",
        "\n",
        "            if results:\n",
        "                # Buat dropdown untuk memilih spesies\n",
        "                options = [(f\"{species_node.name} ({species_node.scientific_name})\", i) for i, (species_node, _, _) in enumerate(results)]\n",
        "\n",
        "                # Buat widget dropdown dan simpan referensinya di variabel species_dropdown\n",
        "                species_dropdown = widgets.Dropdown(\n",
        "                    options=options,\n",
        "                    description='Pilih:',\n",
        "                    disabled=False,\n",
        "                )\n",
        "\n",
        "                detail_button = widgets.Button(\n",
        "                    description='Lihat Detail',\n",
        "                    disabled=False,\n",
        "                    button_style='info',\n",
        "                    tooltip='Klik untuk melihat detail',\n",
        "                    icon='info'\n",
        "                )\n",
        "\n",
        "                detail_output = widgets.Output()\n",
        "\n",
        "                # Fungsi untuk menangani klik tombol Lihat Detail\n",
        "                def on_detail_button_clicked(b):\n",
        "                    with detail_output:\n",
        "                        clear_output()\n",
        "                        # Ambil nilai dari widget dropdown yang sudah ditampilkan\n",
        "                        selected_index = species_dropdown.value\n",
        "                        # Lengkapi pernyataan if di sini\n",
        "                        if selected_index is not None:\n",
        "                            # Ambil data spesies berdasarkan indeks yang dipilih\n",
        "                            species_node, _, _ = results[selected_index]\n",
        "                            print(\"\\nDetail spesies:\")\n",
        "                            tree.print_species_details(species_node.name)\n",
        "                        else:\n",
        "                            print(\"Silakan pilih spesies dari dropdown.\")\n",
        "\n",
        "                # Menghubungkan detail_button ke fungsi penanganan klik\n",
        "                detail_button.on_click(on_detail_button_clicked)\n",
        "\n",
        "                # Tampilkan semua widget dalam satu VBox untuk struktur yang lebih baik\n",
        "                display(widgets.VBox([\n",
        "                    widgets.HBox([species_dropdown, detail_button]),\n",
        "                    detail_output\n",
        "                ]))\n",
        "            else:\n",
        "                print(\"Tidak ada hasil yang ditemukan.\")\n",
        "        else:\n",
        "            print(\"Masukkan nama spesies untuk dicari.\")\n",
        "\n",
        "# Menghubungkan fungsi dengan tombol pencarian\n",
        "search_button.on_click(on_search_button_clicked)\n",
        "\n",
        "# Menampilkan widget pencarian\n",
        "display(widgets.HBox([search_input, search_button]))\n",
        "display(output)"
      ]
    },
    {
      "cell_type": "markdown",
      "metadata": {
        "id": "_J7FunGyNXnw"
      },
      "source": [
        "## 5. Visualisasi Path dari Root ke Spesies\n",
        "\n",
        "Pada bagian ini, kita akan membuat visualisasi jalur dari root ke spesies tertentu."
      ]
    },
    {
      "cell_type": "code",
      "execution_count": null,
      "metadata": {
        "id": "_PWiOkYhNXnw"
      },
      "outputs": [],
      "source": [
        "import matplotlib.pyplot as plt\n",
        "import matplotlib.patches as mpatches\n",
        "\n",
        "def visualize_path_to_species(tree, species_name):\n",
        "    path = tree.get_path_to_species(species_name)\n",
        "    if not path:\n",
        "        print(f\"Spesies '{species_name}' tidak ditemukan.\")\n",
        "        return\n",
        "\n",
        "    # Buat figure dengan ukuran yang lebih besar\n",
        "    plt.figure(figsize=(14, 8))\n",
        "    plt.subplots_adjust(left=0.1, right=0.9, top=0.85, bottom=0.15)\n",
        "\n",
        "    # Posisi node\n",
        "    positions = [(i * 2.5, 0) for i in range(len(path))]  # Jarak lebih lebar antar node\n",
        "\n",
        "    # Warna node\n",
        "    colors = ['#FFCC00', '#FF5733', '#33A1FF', '#90EE90']\n",
        "\n",
        "    # Estimasi lebar kotak berdasarkan teks (approximate)\n",
        "    box_widths = []\n",
        "    box_heights = []\n",
        "\n",
        "    for i, node in enumerate(path):\n",
        "        if i == len(path) - 1:  # Spesies\n",
        "            text = f'{node.name}\\n({node.scientific_name})'\n",
        "        else:\n",
        "            text = node.name\n",
        "\n",
        "        # Estimasi ukuran kotak berdasarkan panjang teks\n",
        "        lines = text.split('\\n')\n",
        "        max_line_length = max(len(line) for line in lines)\n",
        "\n",
        "        # Faktor konversi approximate (bisa disesuaikan)\n",
        "        width = max_line_length * 0.08 + 0.4  # Lebar minimum 0.4\n",
        "        height = len(lines) * 0.15 + 0.2      # Tinggi minimum 0.2\n",
        "\n",
        "        box_widths.append(width)\n",
        "        box_heights.append(height)\n",
        "\n",
        "    # Gambar node dan simpan text objects untuk mendapat ukuran sebenarnya\n",
        "    text_objects = []\n",
        "    for i, (node, pos) in enumerate(zip(path, positions)):\n",
        "        # Gambar node\n",
        "        if i == len(path) - 1:  # Spesies\n",
        "            text_obj = plt.text(pos[0], pos[1], f'{node.name}\\n({node.scientific_name})',\n",
        "                    fontsize=11, ha='center', va='center', weight='bold',\n",
        "                    bbox=dict(boxstyle=\"round,pad=0.5\", facecolor=colors[i % len(colors)],\n",
        "                             alpha=0.8, edgecolor='black', linewidth=1.5))\n",
        "        else:\n",
        "            text_obj = plt.text(pos[0], pos[1], node.name,\n",
        "                    fontsize=11, ha='center', va='center', weight='bold',\n",
        "                    bbox=dict(boxstyle=\"round,pad=0.5\", facecolor=colors[i % len(colors)],\n",
        "                             alpha=0.8, edgecolor='black', linewidth=1.5))\n",
        "        text_objects.append(text_obj)\n",
        "\n",
        "    # Setelah gambar text, hitung posisi panah yang tepat\n",
        "    for i in range(len(path) - 1):\n",
        "        current_pos = positions[i]\n",
        "        next_pos = positions[i + 1]\n",
        "\n",
        "        # Hitung offset untuk menghindari kotak\n",
        "        # Panah horizontal, jadi kita perlu offset di sumbu X\n",
        "        arrow_start_x = current_pos[0] + box_widths[i] / 2 + 0.1  # Keluar dari kanan kotak\n",
        "        arrow_end_x = next_pos[0] - box_widths[i + 1] / 2 - 0.1   # Masuk ke kiri kotak berikutnya\n",
        "\n",
        "        # Y tetap sama (horizontal arrow)\n",
        "        arrow_start_y = current_pos[1]\n",
        "        arrow_end_y = next_pos[1]\n",
        "\n",
        "        # Buat panah dengan posisi yang sudah disesuaikan\n",
        "        plt.annotate('',\n",
        "                    xy=(arrow_end_x, arrow_end_y),\n",
        "                    xytext=(arrow_start_x, arrow_start_y),\n",
        "                    arrowprops=dict(arrowstyle='->', lw=2.5, color='darkblue', alpha=0.8))\n",
        "\n",
        "    # Tambahkan label untuk level\n",
        "    level_labels = ['Kingdom', 'Kelas', 'Ordo', 'Spesies']\n",
        "    for i, label in enumerate(level_labels[:len(path)]):\n",
        "        plt.text(positions[i][0], -0.8, label, fontsize=11, ha='center', va='top',\n",
        "                style='italic', color='darkgreen', weight='bold')\n",
        "\n",
        "    # Atur judul\n",
        "    plt.title(f'Jalur Taksonomi untuk {species_name}', fontsize=18, fontweight='bold', pad=20)\n",
        "\n",
        "    # Atur batas axis\n",
        "    plt.xlim(-1, positions[-1][0] + 1)\n",
        "    plt.ylim(-1.2, 0.8)\n",
        "\n",
        "    plt.axis('off')\n",
        "    plt.show()\n",
        "\n",
        "# Visualisasi jalur dari root ke spesies\n",
        "visualize_path_to_species(tree, 'Sapi')"
      ]
    },
    {
      "cell_type": "markdown",
      "source": [
        "Note : DFS"
      ],
      "metadata": {
        "id": "seECAToUxKFi"
      }
    },
    {
      "cell_type": "markdown",
      "metadata": {
        "id": "IU2b4jQjNXnx"
      },
      "source": [
        "## 6. Kesimpulan\n",
        "\n",
        "Dalam notebook ini merupakan implementasi algoritma Tree untuk klasifikasi dan pencarian taksonomi hewan. yaitu:\n",
        "\n",
        "\n",
        "1. Mengimplementasikan algoritma Tree untuk merepresentasikan struktur taksonomi hewan\n",
        "2. Membuat visualisasi Tree taksonomi\n",
        "3. Menambahkan fitur pencarian spesies dan menampilkan detail taksonominya\n",
        "4. Mengimplementasikan widget pencarian\n",
        "\n",
        "Algoritma Tree sangat cocok untuk merepresentasikan struktur hierarki seperti taksonomi hewan karena memungkinkan kita untuk menyimpan dan mengakses informasi dengan cara yang terstruktur dan efisien. Dengan menggunakan algoritma Tree, kita dapat dengan mudah melakukan pencarian, navigasi, dan visualisasi struktur taksonomi hewan."
      ]
    },
    {
      "cell_type": "markdown",
      "source": [
        "DAFTAR PUSTAKA\n",
        "\n",
        "[1] E. Widiyadi, \"Penerapan Tree dalam Klasifikasi dan Determinasi Makhluk Hidup,\" Makalah IF2091 Struktur Diskrit, Program Studi Teknik Informatika, STEI ITB, 2010. Diakses dari https://informatika.stei.itb.ac.id/~rinaldi.munir/Matdis/2009-2010/Makalah0910/MakalahStrukdis0910-084.pdf. [Diakses pada 13 Mei 2025]\n",
        "[2] R. G. Forsyth, \"Zoo Data Set,\" UCI Machine Learning Repository, 1990. Diakses dari : https://archive.ics.uci.edu/dataset/111/zoo. [Diakses pada 19 Mei 2025]\n",
        "[3] S. Olmstead, \"Animal-Classification-Decision-Tree,\" repositori GitHub, 2021. . Diakses dari : https://github.com/summerolmstead/Animal-Classification-Decision-Tree. [Diakses pada 19 Mei 2025]\n",
        "[4] C.1, \"Decision Tree Classification using Zoo (Animals),\" Kaggle, 2018.. Diakses dari : https://www.kaggle.com/code/carrie1/decision-tree-classification-using-zoo-animals/notebook. [Diakses pada 19 Mei 2025]\n",
        "[5] M. A. Nawaz, V. T. Ngo, dan A. M. A. Haris, \"ANIMAL CLASSIFICATION IN WILDLIFE THROUGH IMAGES USING STATISTICAL METHODS AND DECISION TREE,\" Term Paper, Rhine-Waal University of Applied Sciences, 2015. Tersedia: https://www.researchgate.net/publication/315146311.  [Diakses pada 19 Mei 2025]\n",
        "[6]  T. Ngo, \"Classify Animals with Machine Learning,\" Science Buddies. Diakses dari : https://www.sciencebuddies.org/science-fair-projects/project-ideas/ArtificialIntelligence_p018/artificial-intelligence/animal_classification. [Diakses pada 19 Mei 2025]\n"
      ],
      "metadata": {
        "id": "yqSnWFJ-x0dS"
      }
    }
  ],
  "metadata": {
    "kernelspec": {
      "display_name": "Python 3",
      "language": "python",
      "name": "python3"
    },
    "language_info": {
      "codemirror_mode": {
        "name": "ipython",
        "version": 3
      },
      "file_extension": ".py",
      "mimetype": "text/x-python",
      "name": "python",
      "nbconvert_exporter": "python",
      "pygments_lexer": "ipython3",
      "version": "3.11.0rc1"
    },
    "colab": {
      "provenance": [],
      "include_colab_link": true
    }
  },
  "nbformat": 4,
  "nbformat_minor": 0
}